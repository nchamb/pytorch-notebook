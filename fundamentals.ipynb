{
 "cells": [
  {
   "cell_type": "markdown",
   "id": "97e5d2ba",
   "metadata": {},
   "source": [
    "Tensors"
   ]
  }
 ],
 "metadata": {
  "language_info": {
   "name": "python"
  }
 },
 "nbformat": 4,
 "nbformat_minor": 5
}
