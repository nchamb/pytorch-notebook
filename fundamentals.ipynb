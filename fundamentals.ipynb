{
 "cells": [
  {
   "cell_type": "code",
   "execution_count": null,
   "id": "7752cc23",
   "metadata": {
    "vscode": {
     "languageId": "plaintext"
    }
   },
   "outputs": [],
   "source": [
    "import torch\n",
    "import pandas as pd\n",
    "import numpy as np\n",
    "import matplotlib.pyplot as plt\n",
    "print(torch.__version__)"
   ]
  },
  {
   "cell_type": "markdown",
   "id": "97e5d2ba",
   "metadata": {},
   "source": [
    "Tensors"
   ]
  },
  {
   "cell_type": "code",
   "execution_count": null,
   "id": "8c2fc68a",
   "metadata": {
    "vscode": {
     "languageId": "plaintext"
    }
   },
   "outputs": [],
   "source": [
    "# Scalar\n",
    "scalar = torch.tensor(7)\n",
    "\n",
    "#how many dimmensions\n",
    "scalar.ndim #0\n",
    "\n",
    "# Get the Python number within a tensor (only works with one-element tensors)\n",
    "scalar.item()\n",
    "\n",
    "# Vector\n",
    "vector = torch.tensor([7, 7])\n",
    "\n",
    "vector.ndim #1\n",
    "\n",
    "# Check shape of vector\n",
    "vector.shape #torch.Size([2])\n",
    "#  [2]. This is because of the two elements we placed inside the square brackets ([7, 7])\n",
    "\n",
    "# Matrix\n",
    "MATRIX = torch.tensor([[7, 8], \n",
    "                       [9, 10]])\n",
    "MATRIX.ndim #2\n",
    "\n",
    "MATRIX.shape #torch.Size([2, 2])\n",
    "# MATRIX is two elements deep and two elements wide.\n",
    "\n",
    "# Tensor\n",
    "TENSOR = torch.tensor([[[1, 2, 3],\n",
    "                        [3, 6, 9],\n",
    "                        [2, 4, 5]]])\n",
    "\n",
    "TENSOR.ndim # 3\n",
    "\n",
    "TENSOR.shape #torch.Size([1, 3, 3])\n",
    "\n",
    "print(f\"Datatype of tensor: {some_tensor.dtype}\")\n",
    "print(f\"Device tensor is stored on: {some_tensor.device}\") # will default to CPU"
   ]
  },
  {
   "cell_type": "markdown",
   "id": "fa68a1e5",
   "metadata": {},
   "source": [
    "For example, say you wanted a random tensor in the common image shape of [224, 224, 3] ([height, width, color_channels (R, G, B)])."
   ]
  },
  {
   "cell_type": "code",
   "execution_count": null,
   "id": "2a29ca91",
   "metadata": {
    "vscode": {
     "languageId": "plaintext"
    }
   },
   "outputs": [],
   "source": [
    "# Create a random tensor of size (224, 224, 3)\n",
    "random_image_size_tensor = torch.rand(size=(224, 224, 3))\n",
    "random_image_size_tensor.shape, random_image_size_tensor.ndim\n"
   ]
  },
  {
   "cell_type": "code",
   "execution_count": null,
   "id": "0932c4dd",
   "metadata": {
    "vscode": {
     "languageId": "plaintext"
    }
   },
   "outputs": [],
   "source": [
    "# convert array to tensor\n",
    "array = np.arange(1.0, 8.0)\n",
    "tensor = torch.from_numpy(array)"
   ]
  },
  {
   "cell_type": "code",
   "execution_count": null,
   "id": "b7025688",
   "metadata": {
    "vscode": {
     "languageId": "plaintext"
    }
   },
   "outputs": [],
   "source": [
    "# # Set the random seed\n",
    "RANDOM_SEED=42 # try changing this to different values and see what happens to the numbers below\n",
    "torch.manual_seed(seed=RANDOM_SEED) \n",
    "random_tensor_C = torch.rand(3, 4)"
   ]
  }
 ],
 "metadata": {
  "language_info": {
   "name": "python"
  }
 },
 "nbformat": 4,
 "nbformat_minor": 5
}
