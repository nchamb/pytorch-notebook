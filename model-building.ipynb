{
 "cells": [
  {
   "cell_type": "markdown",
   "id": "d9ed1f10",
   "metadata": {},
   "source": [
    "PyTorch model building essentials\n",
    "\n",
    "PyTorch has four (give or take) essential modules you can use to create almost any kind of neural network you can imagine.\n",
    "\n",
    "They are torch.nn, torch.optim, torch.utils.data.Dataset and torch.utils.data.DataLoader. For now, we'll focus on the first two and get to the other two later (though you may be able to guess what they do).\n",
    "\n",
    "PyTorch module\tWhat does it do?\n",
    "torch.nn\tContains all of the building blocks for computational graphs (essentially a series of computations executed in a particular way).\n",
    "torch.nn.Parameter\tStores tensors that can be used with nn.Module. If requires_grad=True gradients (used for updating model parameters via gradient descent) are calculated automatically, this is often referred to as \"autograd\".\n",
    "torch.nn.Module\tThe base class for all neural network modules, all the building blocks for neural networks are subclasses. If you're building a neural network in PyTorch, your models should subclass nn.Module. Requires a forward() method be implemented.\n",
    "torch.optim\tContains various optimization algorithms (these tell the model parameters stored in nn.Parameter how to best change to improve gradient descent and in turn reduce the loss).\n",
    "def forward()\tAll nn.Module subclasses require a forward() method, this defines the computation that will take place on the data passed to the particular nn.Module (e.g. the linear regression formula above).\n",
    "If the above sounds complex, think of like this, almost everything in a PyTorch neural network comes from torch.nn,\n",
    "\n",
    "nn.Module contains the larger building blocks (layers)\n",
    "nn.Parameter contains the smaller parameters like weights and biases (put these together to make nn.Module(s))\n",
    "forward() tells the larger blocks how to make calculations on inputs (tensors full of data) within  nn.Module(s)\n",
    "torch.optim contains optimization methods on how to improve the parameters within nn.Parameter to better represent input data"
   ]
  },
  {
   "cell_type": "code",
   "execution_count": null,
   "id": "f833ef41",
   "metadata": {
    "vscode": {
     "languageId": "plaintext"
    }
   },
   "outputs": [],
   "source": []
  }
 ],
 "metadata": {
  "language_info": {
   "name": "python"
  }
 },
 "nbformat": 4,
 "nbformat_minor": 5
}
